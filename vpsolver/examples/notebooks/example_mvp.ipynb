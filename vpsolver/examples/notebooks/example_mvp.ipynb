{
 "cells": [
  {
   "cell_type": "markdown",
   "metadata": {},
   "source": [
    "# Simple MVP example"
   ]
  },
  {
   "cell_type": "code",
   "execution_count": 1,
   "metadata": {
    "collapsed": true
   },
   "outputs": [],
   "source": [
    "from __future__ import print_function\n",
    "from IPython.display import SVG"
   ]
  },
  {
   "cell_type": "markdown",
   "metadata": {},
   "source": [
    "## Mid-level API"
   ]
  },
  {
   "cell_type": "code",
   "execution_count": 2,
   "metadata": {
    "collapsed": true
   },
   "outputs": [],
   "source": [
    "from pyvpsolver import VPSolver, MVP, AFG, MPS"
   ]
  },
  {
   "cell_type": "markdown",
   "metadata": {},
   "source": [
    "Define a MVP instance:"
   ]
  },
  {
   "cell_type": "code",
   "execution_count": 3,
   "metadata": {
    "collapsed": true
   },
   "outputs": [],
   "source": [
    "Ws = [(100, 75), (75, 50)]\n",
    "Cs = [3, 2]\n",
    "Qs = [-1, -1]\n",
    "ws = [\n",
    "    [(75, 50)], \n",
    "    [(40, 15), (25, 25)]\n",
    "]\n",
    "b = [2, 1]\n",
    "instance = MVP(Ws, Cs, Qs, ws, b)"
   ]
  },
  {
   "cell_type": "markdown",
   "metadata": {},
   "source": [
    "Build an arc-flow graph for the MVP instance:"
   ]
  },
  {
   "cell_type": "code",
   "execution_count": 4,
   "metadata": {
    "collapsed": false
   },
   "outputs": [
    {
     "name": "stdout",
     "output_type": "stream",
     "text": [
      "VPSolver 3.1.2, Copyright (C) 2013-2016, Filipe Brandao\n",
      "Build (method = -3)\n",
      "  #dp: 6\n",
      "  Step-3' Graph: 7 vertices and 15 arcs (0.00s)\n",
      "  Step-4' Graph: 6 vertices and 11 arcs (0.00s)\n",
      "  #V4/#V3 = 0.86\n",
      "  #A4/#A3 = 0.73\n",
      "Ready! (0.00s)\n"
     ]
    }
   ],
   "source": [
    "afg = AFG(instance)"
   ]
  },
  {
   "cell_type": "markdown",
   "metadata": {},
   "source": [
    "Draw the arc-flow graph for the MVP instance:"
   ]
  },
  {
   "cell_type": "code",
   "execution_count": 5,
   "metadata": {
    "collapsed": false
   },
   "outputs": [
    {
     "data": {
      "image/svg+xml": [
       "<svg height=\"99pt\" viewBox=\"0.00 0.00 566.00 98.86\" width=\"566pt\" xmlns=\"http://www.w3.org/2000/svg\" xmlns:xlink=\"http://www.w3.org/1999/xlink\">\n",
       "<g class=\"graph\" id=\"graph0\" transform=\"scale(1 1) rotate(0) translate(4 94.8551)\">\n",
       "<title>%3</title>\n",
       "<polygon fill=\"white\" points=\"-4,4 -4,-94.8551 562,-94.8551 562,4 -4,4\" stroke=\"none\"/>\n",
       "<!-- 1 -->\n",
       "<g class=\"node\" id=\"node1\"><title>1</title>\n",
       "<ellipse cx=\"153\" cy=\"-44.8551\" fill=\"none\" rx=\"27\" ry=\"18\" stroke=\"black\" stroke-width=\"2\"/>\n",
       "<text font-family=\"Times,serif\" font-size=\"14.00\" text-anchor=\"middle\" x=\"153\" y=\"-41.1551\">1</text>\n",
       "</g>\n",
       "<!-- 2 -->\n",
       "<g class=\"node\" id=\"node2\"><title>2</title>\n",
       "<ellipse cx=\"279\" cy=\"-68.8551\" fill=\"none\" rx=\"27\" ry=\"18\" stroke=\"black\" stroke-width=\"2\"/>\n",
       "<text font-family=\"Times,serif\" font-size=\"14.00\" text-anchor=\"middle\" x=\"279\" y=\"-65.1551\">2</text>\n",
       "</g>\n",
       "<!-- 1&#45;&gt;2 -->\n",
       "<g class=\"edge\" id=\"edge1\"><title>1-&gt;2</title>\n",
       "<path d=\"M179.093,-49.7118C197.497,-53.2739 222.723,-58.1563 243.092,-62.0987\" fill=\"none\" stroke=\"#00ff7f\" stroke-width=\"2\"/>\n",
       "<polygon fill=\"#00ff7f\" points=\"242.461,-65.5415 252.944,-64.0055 243.791,-58.669 242.461,-65.5415\" stroke=\"#00ff7f\" stroke-width=\"2\"/>\n",
       "</g>\n",
       "<!-- T2 -->\n",
       "<g class=\"node\" id=\"node3\"><title>T2</title>\n",
       "<ellipse cx=\"405\" cy=\"-29.8551\" fill=\"none\" rx=\"27\" ry=\"18\" stroke=\"black\" stroke-width=\"2\"/>\n",
       "<text font-family=\"Times,serif\" font-size=\"14.00\" text-anchor=\"middle\" x=\"405\" y=\"-26.1551\">T2</text>\n",
       "</g>\n",
       "<!-- 1&#45;&gt;T2 -->\n",
       "<g class=\"edge\" id=\"edge2\"><title>1-&gt;T2</title>\n",
       "<path d=\"M180.282,-43.2782C225.225,-40.5816 316.913,-35.0803 367.851,-32.024\" fill=\"none\" stroke=\"black\" stroke-dasharray=\"5,2\" stroke-width=\"2\"/>\n",
       "<polygon fill=\"black\" points=\"368.298,-35.5036 378.07,-31.4109 367.879,-28.5162 368.298,-35.5036\" stroke=\"black\" stroke-width=\"2\"/>\n",
       "</g>\n",
       "<!-- 2&#45;&gt;T2 -->\n",
       "<g class=\"edge\" id=\"edge3\"><title>2-&gt;T2</title>\n",
       "<path d=\"M303.615,-61.4277C322.542,-55.475 349.336,-47.0479 370.482,-40.397\" fill=\"none\" stroke=\"black\" stroke-dasharray=\"5,2\" stroke-width=\"2\"/>\n",
       "<polygon fill=\"black\" points=\"371.561,-43.7268 380.05,-37.3877 369.461,-37.0492 371.561,-43.7268\" stroke=\"black\" stroke-width=\"2\"/>\n",
       "</g>\n",
       "<!-- 3 -->\n",
       "<g class=\"node\" id=\"node4\"><title>3</title>\n",
       "<ellipse cx=\"405\" cy=\"-72.8551\" fill=\"none\" rx=\"27\" ry=\"18\" stroke=\"black\" stroke-width=\"2\"/>\n",
       "<text font-family=\"Times,serif\" font-size=\"14.00\" text-anchor=\"middle\" x=\"405\" y=\"-69.1551\">3</text>\n",
       "</g>\n",
       "<!-- 2&#45;&gt;3 -->\n",
       "<g class=\"edge\" id=\"edge4\"><title>2-&gt;3</title>\n",
       "<path d=\"M305.994,-69.6936C323.813,-70.2684 347.704,-71.0391 367.436,-71.6756\" fill=\"none\" stroke=\"#00ff7f\" stroke-width=\"2\"/>\n",
       "<polygon fill=\"#00ff7f\" points=\"367.505,-75.1795 377.613,-72.0039 367.731,-68.1832 367.505,-75.1795\" stroke=\"#00ff7f\" stroke-width=\"2\"/>\n",
       "</g>\n",
       "<!-- T1 -->\n",
       "<g class=\"node\" id=\"node5\"><title>T1</title>\n",
       "<ellipse cx=\"531\" cy=\"-29.8551\" fill=\"none\" rx=\"27\" ry=\"18\" stroke=\"black\" stroke-width=\"2\"/>\n",
       "<text font-family=\"Times,serif\" font-size=\"14.00\" text-anchor=\"middle\" x=\"531\" y=\"-26.1551\">T1</text>\n",
       "</g>\n",
       "<!-- T2&#45;&gt;T1 -->\n",
       "<g class=\"edge\" id=\"edge5\"><title>T2-&gt;T1</title>\n",
       "<path d=\"M432.297,-29.8551C450.135,-29.8551 473.953,-29.8551 493.607,-29.8551\" fill=\"none\" stroke=\"black\" stroke-dasharray=\"5,2\" stroke-width=\"2\"/>\n",
       "<polygon fill=\"black\" points=\"493.741,-33.3552 503.741,-29.8551 493.741,-26.3552 493.741,-33.3552\" stroke=\"black\" stroke-width=\"2\"/>\n",
       "</g>\n",
       "<!-- 3&#45;&gt;T1 -->\n",
       "<g class=\"edge\" id=\"edge6\"><title>3-&gt;T1</title>\n",
       "<path d=\"M429.323,-64.7671C448.462,-58.1304 475.786,-48.655 497.141,-41.2498\" fill=\"none\" stroke=\"black\" stroke-dasharray=\"5,2\" stroke-width=\"2\"/>\n",
       "<polygon fill=\"black\" points=\"498.48,-44.49 506.781,-37.9068 496.186,-37.8764 498.48,-44.49\" stroke=\"black\" stroke-width=\"2\"/>\n",
       "</g>\n",
       "<!-- S -->\n",
       "<g class=\"node\" id=\"node6\"><title>S</title>\n",
       "<ellipse cx=\"27\" cy=\"-44.8551\" fill=\"none\" rx=\"27\" ry=\"18\" stroke=\"black\" stroke-width=\"2\"/>\n",
       "<text font-family=\"Times,serif\" font-size=\"14.00\" text-anchor=\"middle\" x=\"27\" y=\"-41.1551\">S</text>\n",
       "</g>\n",
       "<!-- S&#45;&gt;1 -->\n",
       "<g class=\"edge\" id=\"edge7\"><title>S-&gt;1</title>\n",
       "<path d=\"M53.9945,-42.9836C71.9335,-42.5556 96.0268,-42.4905 115.835,-42.7885\" fill=\"none\" stroke=\"black\" stroke-dasharray=\"5,2\" stroke-width=\"2\"/>\n",
       "<polygon fill=\"black\" points=\"115.974,-46.2918 126.04,-42.9844 116.109,-39.2931 115.974,-46.2918\" stroke=\"black\" stroke-width=\"2\"/>\n",
       "</g>\n",
       "<!-- S&#45;&gt;1 -->\n",
       "<g class=\"edge\" id=\"edge8\"><title>S-&gt;1</title>\n",
       "<path d=\"M53.9945,-47.3504C71.9335,-47.9211 96.0268,-48.0078 115.835,-47.6104\" fill=\"none\" stroke=\"#7f7f00\" stroke-width=\"2\"/>\n",
       "<polygon fill=\"#7f7f00\" points=\"116.133,-51.1041 126.04,-47.3493 115.953,-44.1064 116.133,-51.1041\" stroke=\"#7f7f00\" stroke-width=\"2\"/>\n",
       "</g>\n",
       "<!-- S&#45;&gt;2 -->\n",
       "<g class=\"edge\" id=\"edge9\"><title>S-&gt;2</title>\n",
       "<path d=\"M52.3513,-51.4324C72.0502,-56.4225 100.592,-62.9095 126,-65.8551 165.284,-70.4092 210.653,-70.6601 241.526,-70.0849\" fill=\"none\" stroke=\"#7f0000\" stroke-width=\"2\"/>\n",
       "<polygon fill=\"#7f0000\" points=\"241.89,-73.5777 251.808,-69.8527 241.732,-66.5795 241.89,-73.5777\" stroke=\"#7f0000\" stroke-width=\"2\"/>\n",
       "</g>\n",
       "<!-- S&#45;&gt;T2 -->\n",
       "<g class=\"edge\" id=\"edge10\"><title>S-&gt;T2</title>\n",
       "<path d=\"M62.1685,-35.6795C80.8688,-31.1287 104.539,-26.1287 126,-23.8551 218.412,-14.0649 329.036,-22.3908 378.229,-27.1236\" fill=\"none\" stroke=\"black\" stroke-dasharray=\"5,2\" stroke-width=\"2\"/>\n",
       "<polygon fill=\"black\" points=\"61.1866,-32.3172 52.3362,-38.1413 62.8869,-39.1076 61.1866,-32.3172\" stroke=\"black\" stroke-width=\"2\"/>\n",
       "</g>\n",
       "<!-- S&#45;&gt;T1 -->\n",
       "<g class=\"edge\" id=\"edge11\"><title>S-&gt;T1</title>\n",
       "<path d=\"M61.0469,-34.146C79.8702,-28.5389 104.016,-22.1663 126,-18.8551 260.555,1.41165 296.685,5.48029 432,-8.85507 457.436,-11.5498 485.973,-18.074 505.664,-23.1413\" fill=\"none\" stroke=\"black\" stroke-dasharray=\"5,2\" stroke-width=\"2\"/>\n",
       "<polygon fill=\"black\" points=\"59.9999,-30.8061 51.4571,-37.0729 62.0433,-37.5013 59.9999,-30.8061\" stroke=\"black\" stroke-width=\"2\"/>\n",
       "</g>\n",
       "</g>\n",
       "</svg>"
      ],
      "text/plain": [
       "<IPython.core.display.SVG object>"
      ]
     },
     "execution_count": 5,
     "metadata": {},
     "output_type": "execute_result"
    }
   ],
   "source": [
    "afg.draw(\"graph_mvp.svg\", graph_attrs={\"size\": \"8,8\"})\n",
    "SVG(\"graph_mvp.svg\")"
   ]
  },
  {
   "cell_type": "code",
   "execution_count": 6,
   "metadata": {
    "collapsed": false
   },
   "outputs": [
    {
     "data": {
      "image/svg+xml": [
       "<svg height=\"143pt\" viewBox=\"0.00 0.00 576.00 143.44\" width=\"576pt\" xmlns=\"http://www.w3.org/2000/svg\" xmlns:xlink=\"http://www.w3.org/1999/xlink\">\n",
       "<g class=\"graph\" id=\"graph0\" transform=\"scale(0.75 0.75) rotate(0) translate(4 187.257)\">\n",
       "<title>%3</title>\n",
       "<polygon fill=\"white\" points=\"-4,4 -4,-187.257 764,-187.257 764,4 -4,4\" stroke=\"none\"/>\n",
       "<!-- 1:\n",
       "L(40,15)\n",
       "U(50,25) -->\n",
       "<g class=\"node\" id=\"node1\"><title>1:\n",
       "L(40,15)\n",
       "U(50,25)</title>\n",
       "<ellipse cx=\"195\" cy=\"-79.2567\" fill=\"none\" rx=\"46.8387\" ry=\"37.4533\" stroke=\"black\" stroke-width=\"2\"/>\n",
       "<text font-family=\"Times,serif\" font-size=\"14.00\" text-anchor=\"middle\" x=\"195\" y=\"-90.5567\">1:</text>\n",
       "<text font-family=\"Times,serif\" font-size=\"14.00\" text-anchor=\"middle\" x=\"195\" y=\"-75.5567\">L(40,15)</text>\n",
       "<text font-family=\"Times,serif\" font-size=\"14.00\" text-anchor=\"middle\" x=\"195\" y=\"-60.5567\">U(50,25)</text>\n",
       "</g>\n",
       "<!-- 2:\n",
       "L(75,50)\n",
       "U(75,50) -->\n",
       "<g class=\"node\" id=\"node2\"><title>2:\n",
       "L(75,50)\n",
       "U(75,50)</title>\n",
       "<ellipse cx=\"361\" cy=\"-123.257\" fill=\"none\" rx=\"46.8387\" ry=\"37.4533\" stroke=\"black\" stroke-width=\"2\"/>\n",
       "<text font-family=\"Times,serif\" font-size=\"14.00\" text-anchor=\"middle\" x=\"361\" y=\"-134.557\">2:</text>\n",
       "<text font-family=\"Times,serif\" font-size=\"14.00\" text-anchor=\"middle\" x=\"361\" y=\"-119.557\">L(75,50)</text>\n",
       "<text font-family=\"Times,serif\" font-size=\"14.00\" text-anchor=\"middle\" x=\"361\" y=\"-104.557\">U(75,50)</text>\n",
       "</g>\n",
       "<!-- 1:\n",
       "L(40,15)\n",
       "U(50,25)&#45;&gt;2:\n",
       "L(75,50)\n",
       "U(75,50) -->\n",
       "<g class=\"edge\" id=\"edge1\"><title>1:\n",
       "L(40,15)\n",
       "U(50,25)-&gt;2:\n",
       "L(75,50)\n",
       "U(75,50)</title>\n",
       "<path d=\"M239.518,-90.9324C260.173,-96.474 285.041,-103.146 306.807,-108.985\" fill=\"none\" stroke=\"#00ff7f\" stroke-width=\"2\"/>\n",
       "<polygon fill=\"#00ff7f\" points=\"305.998,-112.392 316.563,-111.603 307.812,-105.631 305.998,-112.392\" stroke=\"#00ff7f\" stroke-width=\"2\"/>\n",
       "</g>\n",
       "<!-- T2:\n",
       "L(75,50)\n",
       "U(75,50) -->\n",
       "<g class=\"node\" id=\"node3\"><title>T2:\n",
       "L(75,50)\n",
       "U(75,50)</title>\n",
       "<ellipse cx=\"532\" cy=\"-64.2567\" fill=\"none\" rx=\"46.8387\" ry=\"37.4533\" stroke=\"black\" stroke-width=\"2\"/>\n",
       "<text font-family=\"Times,serif\" font-size=\"14.00\" text-anchor=\"middle\" x=\"532\" y=\"-75.5567\">T2:</text>\n",
       "<text font-family=\"Times,serif\" font-size=\"14.00\" text-anchor=\"middle\" x=\"532\" y=\"-60.5567\">L(75,50)</text>\n",
       "<text font-family=\"Times,serif\" font-size=\"14.00\" text-anchor=\"middle\" x=\"532\" y=\"-45.5567\">U(75,50)</text>\n",
       "</g>\n",
       "<!-- 1:\n",
       "L(40,15)\n",
       "U(50,25)&#45;&gt;T2:\n",
       "L(75,50)\n",
       "U(75,50) -->\n",
       "<g class=\"edge\" id=\"edge2\"><title>1:\n",
       "L(40,15)\n",
       "U(50,25)-&gt;T2:\n",
       "L(75,50)\n",
       "U(75,50)</title>\n",
       "<path d=\"M241.878,-77.2025C302.602,-74.4835 409.596,-69.6927 475.012,-66.7636\" fill=\"none\" stroke=\"black\" stroke-dasharray=\"5,2\" stroke-width=\"2\"/>\n",
       "<polygon fill=\"black\" points=\"475.306,-70.254 485.14,-66.3101 474.993,-63.261 475.306,-70.254\" stroke=\"black\" stroke-width=\"2\"/>\n",
       "</g>\n",
       "<!-- 2:\n",
       "L(75,50)\n",
       "U(75,50)&#45;&gt;T2:\n",
       "L(75,50)\n",
       "U(75,50) -->\n",
       "<g class=\"edge\" id=\"edge3\"><title>2:\n",
       "L(75,50)\n",
       "U(75,50)-&gt;T2:\n",
       "L(75,50)\n",
       "U(75,50)</title>\n",
       "<path d=\"M404.21,-108.521C426.981,-100.571 455.272,-90.6943 479.349,-82.2886\" fill=\"none\" stroke=\"black\" stroke-dasharray=\"5,2\" stroke-width=\"2\"/>\n",
       "<polygon fill=\"black\" points=\"480.748,-85.5075 489.036,-78.907 478.441,-78.8987 480.748,-85.5075\" stroke=\"black\" stroke-width=\"2\"/>\n",
       "</g>\n",
       "<!-- 3:\n",
       "L(100,75)\n",
       "U(100,75) -->\n",
       "<g class=\"node\" id=\"node4\"><title>3:\n",
       "L(100,75)\n",
       "U(100,75)</title>\n",
       "<ellipse cx=\"532\" cy=\"-146.257\" fill=\"none\" rx=\"51.7379\" ry=\"37.4533\" stroke=\"black\" stroke-width=\"2\"/>\n",
       "<text font-family=\"Times,serif\" font-size=\"14.00\" text-anchor=\"middle\" x=\"532\" y=\"-157.557\">3:</text>\n",
       "<text font-family=\"Times,serif\" font-size=\"14.00\" text-anchor=\"middle\" x=\"532\" y=\"-142.557\">L(100,75)</text>\n",
       "<text font-family=\"Times,serif\" font-size=\"14.00\" text-anchor=\"middle\" x=\"532\" y=\"-127.557\">U(100,75)</text>\n",
       "</g>\n",
       "<!-- 2:\n",
       "L(75,50)\n",
       "U(75,50)&#45;&gt;3:\n",
       "L(100,75)\n",
       "U(100,75) -->\n",
       "<g class=\"edge\" id=\"edge4\"><title>2:\n",
       "L(75,50)\n",
       "U(75,50)-&gt;3:\n",
       "L(100,75)\n",
       "U(100,75)</title>\n",
       "<path d=\"M407.289,-129.42C426.866,-132.085 450.052,-135.24 471.03,-138.095\" fill=\"none\" stroke=\"#00ff7f\" stroke-width=\"2\"/>\n",
       "<polygon fill=\"#00ff7f\" points=\"470.744,-141.588 481.125,-139.469 471.688,-134.652 470.744,-141.588\" stroke=\"#00ff7f\" stroke-width=\"2\"/>\n",
       "</g>\n",
       "<!-- T1:\n",
       "L(100,75)\n",
       "U(100,75) -->\n",
       "<g class=\"node\" id=\"node5\"><title>T1:\n",
       "L(100,75)\n",
       "U(100,75)</title>\n",
       "<ellipse cx=\"708\" cy=\"-64.2567\" fill=\"none\" rx=\"51.7379\" ry=\"37.4533\" stroke=\"black\" stroke-width=\"2\"/>\n",
       "<text font-family=\"Times,serif\" font-size=\"14.00\" text-anchor=\"middle\" x=\"708\" y=\"-75.5567\">T1:</text>\n",
       "<text font-family=\"Times,serif\" font-size=\"14.00\" text-anchor=\"middle\" x=\"708\" y=\"-60.5567\">L(100,75)</text>\n",
       "<text font-family=\"Times,serif\" font-size=\"14.00\" text-anchor=\"middle\" x=\"708\" y=\"-45.5567\">U(100,75)</text>\n",
       "</g>\n",
       "<!-- T2:\n",
       "L(75,50)\n",
       "U(75,50)&#45;&gt;T1:\n",
       "L(100,75)\n",
       "U(100,75) -->\n",
       "<g class=\"edge\" id=\"edge5\"><title>T2:\n",
       "L(75,50)\n",
       "U(75,50)-&gt;T1:\n",
       "L(100,75)\n",
       "U(100,75)</title>\n",
       "<path d=\"M578.716,-64.2567C599.23,-64.2567 623.731,-64.2567 645.797,-64.2567\" fill=\"none\" stroke=\"black\" stroke-dasharray=\"5,2\" stroke-width=\"2\"/>\n",
       "<polygon fill=\"black\" points=\"646.073,-67.7568 656.072,-64.2567 646.072,-60.7568 646.073,-67.7568\" stroke=\"black\" stroke-width=\"2\"/>\n",
       "</g>\n",
       "<!-- 3:\n",
       "L(100,75)\n",
       "U(100,75)&#45;&gt;T1:\n",
       "L(100,75)\n",
       "U(100,75) -->\n",
       "<g class=\"edge\" id=\"edge6\"><title>3:\n",
       "L(100,75)\n",
       "U(100,75)-&gt;T1:\n",
       "L(100,75)\n",
       "U(100,75)</title>\n",
       "<path d=\"M575.565,-126.197C599.58,-114.88 629.768,-100.653 655.156,-88.6891\" fill=\"none\" stroke=\"black\" stroke-dasharray=\"5,2\" stroke-width=\"2\"/>\n",
       "<polygon fill=\"black\" points=\"656.717,-91.8223 664.271,-84.3933 653.733,-85.4902 656.717,-91.8223\" stroke=\"black\" stroke-width=\"2\"/>\n",
       "</g>\n",
       "<!-- S:\n",
       "L(0,0)\n",
       "U(0,0) -->\n",
       "<g class=\"node\" id=\"node6\"><title>S:\n",
       "L(0,0)\n",
       "U(0,0)</title>\n",
       "<ellipse cx=\"38\" cy=\"-79.2567\" fill=\"none\" rx=\"37.4533\" ry=\"37.4533\" stroke=\"black\" stroke-width=\"2\"/>\n",
       "<text font-family=\"Times,serif\" font-size=\"14.00\" text-anchor=\"middle\" x=\"38\" y=\"-90.5567\">S:</text>\n",
       "<text font-family=\"Times,serif\" font-size=\"14.00\" text-anchor=\"middle\" x=\"38\" y=\"-75.5567\">L(0,0)</text>\n",
       "<text font-family=\"Times,serif\" font-size=\"14.00\" text-anchor=\"middle\" x=\"38\" y=\"-60.5567\">U(0,0)</text>\n",
       "</g>\n",
       "<!-- S:\n",
       "L(0,0)\n",
       "U(0,0)&#45;&gt;1:\n",
       "L(40,15)\n",
       "U(50,25) -->\n",
       "<g class=\"edge\" id=\"edge7\"><title>S:\n",
       "L(0,0)\n",
       "U(0,0)-&gt;1:\n",
       "L(40,15)\n",
       "U(50,25)</title>\n",
       "<path d=\"M75.7328,-77.3101C94.4277,-77.0029 117.547,-76.929 138.371,-77.0883\" fill=\"none\" stroke=\"black\" stroke-dasharray=\"5,2\" stroke-width=\"2\"/>\n",
       "<polygon fill=\"black\" points=\"138.347,-80.5881 148.381,-77.1852 138.415,-73.5885 138.347,-80.5881\" stroke=\"black\" stroke-width=\"2\"/>\n",
       "</g>\n",
       "<!-- S:\n",
       "L(0,0)\n",
       "U(0,0)&#45;&gt;1:\n",
       "L(40,15)\n",
       "U(50,25) -->\n",
       "<g class=\"edge\" id=\"edge8\"><title>S:\n",
       "L(0,0)\n",
       "U(0,0)-&gt;1:\n",
       "L(40,15)\n",
       "U(50,25)</title>\n",
       "<path d=\"M75.7328,-81.8522C94.4277,-82.2617 117.547,-82.3603 138.371,-82.1479\" fill=\"none\" stroke=\"#7f7f00\" stroke-width=\"2\"/>\n",
       "<polygon fill=\"#7f7f00\" points=\"138.427,-85.6476 148.381,-82.0186 138.336,-78.6481 138.427,-85.6476\" stroke=\"#7f7f00\" stroke-width=\"2\"/>\n",
       "</g>\n",
       "<!-- S:\n",
       "L(0,0)\n",
       "U(0,0)&#45;&gt;2:\n",
       "L(75,50)\n",
       "U(75,50) -->\n",
       "<g class=\"edge\" id=\"edge9\"><title>S:\n",
       "L(0,0)\n",
       "U(0,0)-&gt;2:\n",
       "L(75,50)\n",
       "U(75,50)</title>\n",
       "<path d=\"M72.5385,-94.8692C93.685,-103.873 121.847,-114.355 148,-119.257 200.422,-129.083 261.412,-129.068 304.48,-127.204\" fill=\"none\" stroke=\"#7f0000\" stroke-width=\"2\"/>\n",
       "<polygon fill=\"#7f0000\" points=\"304.659,-130.699 314.48,-126.724 304.323,-123.707 304.659,-130.699\" stroke=\"#7f0000\" stroke-width=\"2\"/>\n",
       "</g>\n",
       "<!-- S:\n",
       "L(0,0)\n",
       "U(0,0)&#45;&gt;T2:\n",
       "L(75,50)\n",
       "U(75,50) -->\n",
       "<g class=\"edge\" id=\"edge10\"><title>S:\n",
       "L(0,0)\n",
       "U(0,0)-&gt;T2:\n",
       "L(75,50)\n",
       "U(75,50)</title>\n",
       "<path d=\"M81.8147,-59.5802C101.523,-51.5664 125.486,-43.2572 148,-39.2567 269.209,-17.7188 414.944,-40.2884 486.678,-54.5199\" fill=\"none\" stroke=\"black\" stroke-dasharray=\"5,2\" stroke-width=\"2\"/>\n",
       "<polygon fill=\"black\" points=\"80.3837,-56.3849 72.5067,-63.4704 83.083,-62.8435 80.3837,-56.3849\" stroke=\"black\" stroke-width=\"2\"/>\n",
       "</g>\n",
       "<!-- S:\n",
       "L(0,0)\n",
       "U(0,0)&#45;&gt;T1:\n",
       "L(100,75)\n",
       "U(100,75) -->\n",
       "<g class=\"edge\" id=\"edge11\"><title>S:\n",
       "L(0,0)\n",
       "U(0,0)-&gt;T1:\n",
       "L(100,75)\n",
       "U(100,75)</title>\n",
       "<path d=\"M79.791,-56.1796C99.702,-46.168 124.404,-35.5399 148,-30.2567 337.114,12.0867 392.594,6.08424 584,-24.2567 610.835,-28.5105 639.782,-37.6793 662.848,-46.1666\" fill=\"none\" stroke=\"black\" stroke-dasharray=\"5,2\" stroke-width=\"2\"/>\n",
       "<polygon fill=\"black\" points=\"77.9945,-53.1681 70.715,-60.8661 81.2062,-59.3878 77.9945,-53.1681\" stroke=\"black\" stroke-width=\"2\"/>\n",
       "</g>\n",
       "</g>\n",
       "</svg>"
      ],
      "text/plain": [
       "<IPython.core.display.SVG object>"
      ]
     },
     "execution_count": 6,
     "metadata": {},
     "output_type": "execute_result"
    }
   ],
   "source": [
    "afg.draw(\"graph_mvp_lpaths.svg\", lpaths=True, graph_attrs={\"size\": \"8,8\"})\n",
    "SVG(\"graph_mvp_lpaths.svg\")"
   ]
  },
  {
   "cell_type": "markdown",
   "metadata": {
    "collapsed": true
   },
   "source": [
    "Solve the MVP instance:"
   ]
  },
  {
   "cell_type": "code",
   "execution_count": 7,
   "metadata": {
    "collapsed": false
   },
   "outputs": [
    {
     "name": "stdout",
     "output_type": "stream",
     "text": [
      "Copyright (C) 2013-2016, Filipe Brandao\n",
      "\n",
      ">>> vbp2afg...\n",
      "VPSolver 3.1.2, Copyright (C) 2013-2016, Filipe Brandao\n",
      "Build (method = -3)\n",
      "  #dp: 6\n",
      "  Step-3' Graph: 7 vertices and 15 arcs (0.00s)\n",
      "  Step-4' Graph: 6 vertices and 11 arcs (0.00s)\n",
      "  #V4/#V3 = 0.86\n",
      "  #A4/#A3 = 0.73\n",
      "Ready! (0.00s)\n",
      "\n",
      ">>> afg2mps...\n",
      "VPSolver 3.1.2, Copyright (C) 2013-2016, Filipe Brandao\n",
      "Generating the .MPS model...DONE!\n",
      "\n",
      ">>> solving the MIP model using GLPK...\n",
      "Note: different parameter settings may improve the performance substantially!\n",
      "GLPSOL: GLPK LP/MIP Solver, v4.52\n",
      "Parameter(s) specified in the command line:\n",
      " --mps /tmp/LPf4YkVnUL/model.mps --seed 1234 -o /tmp/LPf4YkVnUL/sol.out\n",
      "Reading problem data from `/tmp/LPf4YkVnUL/model.mps'...\n",
      "Problem: ARCFLOW\n",
      "Objective: OBJ\n",
      "9 rows, 11 columns, 28 non-zeros\n",
      "11 integer variables, 3 of which are binary\n",
      "58 records were read\n",
      "GLPK Integer Optimizer, v4.52\n",
      "9 rows, 11 columns, 28 non-zeros\n",
      "11 integer variables, 3 of which are binary\n",
      "Preprocessing...\n",
      "7 rows, 10 columns, 23 non-zeros\n",
      "10 integer variables, 4 of which are binary\n",
      "Scaling...\n",
      " A: min|aij| =  1.000e+00  max|aij| =  1.000e+00  ratio =  1.000e+00\n",
      "Problem data seem to be well scaled\n",
      "Constructing initial basis...\n",
      "Size of triangular part is 6\n",
      "Solving LP relaxation...\n",
      "GLPK Simplex Optimizer, v4.52\n",
      "7 rows, 10 columns, 23 non-zeros\n",
      "      0: obj =   0.000000000e+00  infeas =  5.000e+00 (1)\n",
      "*     2: obj =   5.000000000e+00  infeas =  0.000e+00 (1)\n",
      "*     3: obj =   5.000000000e+00  infeas =  0.000e+00 (1)\n",
      "OPTIMAL LP SOLUTION FOUND\n",
      "Integer optimization begins...\n",
      "+     3: mip =     not found yet >=              -inf        (1; 0)\n",
      "+     4: >>>>>   5.000000000e+00 >=   5.000000000e+00   0.0% (2; 0)\n",
      "+     4: mip =   5.000000000e+00 >=     tree is empty   0.0% (0; 3)\n",
      "INTEGER OPTIMAL SOLUTION FOUND\n",
      "Time used:   0.0 secs\n",
      "Memory used: 0.1 Mb (54700 bytes)\n",
      "Writing MIP solution to `/tmp/LPf4YkVnUL/sol.out'...\n",
      "\n",
      ">>> vbpsol...\n",
      "VPSolver 3.1.2, Copyright (C) 2013-2016, Filipe Brandao\n",
      "Objective: 5\n",
      "Solution:\n",
      "Bins of type 1: 1\n",
      "1 x [i=1, i=2 opt=2]\n",
      "Bins of type 2: 1\n",
      "1 x [i=1]\n"
     ]
    }
   ],
   "source": [
    "output, solution = VPSolver.script(\"vpsolver_glpk.sh\", instance)"
   ]
  },
  {
   "cell_type": "code",
   "execution_count": 8,
   "metadata": {
    "collapsed": false
   },
   "outputs": [
    {
     "name": "stdout",
     "output_type": "stream",
     "text": [
      "Obj: 5\n",
      "Solution: [[(1, [(0, 0), (1, 1)])], [(1, [(0, 0)])]]\n"
     ]
    }
   ],
   "source": [
    "obj, patterns = solution\n",
    "print(\"Obj: {}\".format(obj))\n",
    "print(\"Solution: {}\".format(patterns))"
   ]
  },
  {
   "cell_type": "markdown",
   "metadata": {},
   "source": [
    "Pretty-print the MVP solution:"
   ]
  },
  {
   "cell_type": "code",
   "execution_count": 9,
   "metadata": {
    "collapsed": false
   },
   "outputs": [
    {
     "name": "stdout",
     "output_type": "stream",
     "text": [
      "Objective: 5\n",
      "Solution:\n",
      "Bins of type 1: 1 bin\n",
      "1 x [i=1 opt=1, i=2 opt=2]\n",
      "Bins of type 2: 1 bin\n",
      "1 x [i=1 opt=1]\n"
     ]
    }
   ],
   "source": [
    "from pyvpsolver.solvers import mvpsolver\n",
    "mvpsolver.print_solution(solution)"
   ]
  },
  {
   "cell_type": "markdown",
   "metadata": {},
   "source": [
    "## High-level API"
   ]
  },
  {
   "cell_type": "code",
   "execution_count": 10,
   "metadata": {
    "collapsed": true
   },
   "outputs": [],
   "source": [
    "from pyvpsolver.solvers import mvpsolver"
   ]
  },
  {
   "cell_type": "markdown",
   "metadata": {},
   "source": [
    "Solve the MVP instance using the high level API:"
   ]
  },
  {
   "cell_type": "code",
   "execution_count": 11,
   "metadata": {
    "collapsed": false
   },
   "outputs": [
    {
     "name": "stdout",
     "output_type": "stream",
     "text": [
      "Copyright (C) 2013-2016, Filipe Brandao\n",
      "\n",
      ">>> vbp2afg...\n",
      "VPSolver 3.1.2, Copyright (C) 2013-2016, Filipe Brandao\n",
      "Build (method = -3)\n",
      "  #dp: 6\n",
      "  Step-3' Graph: 7 vertices and 15 arcs (0.00s)\n",
      "  Step-4' Graph: 6 vertices and 11 arcs (0.00s)\n",
      "  #V4/#V3 = 0.86\n",
      "  #A4/#A3 = 0.73\n",
      "Ready! (0.00s)\n",
      "\n",
      ">>> afg2mps...\n",
      "VPSolver 3.1.2, Copyright (C) 2013-2016, Filipe Brandao\n",
      "Generating the .MPS model...DONE!\n",
      "\n",
      ">>> solving the MIP model using GLPK...\n",
      "Note: different parameter settings may improve the performance substantially!\n",
      "GLPSOL: GLPK LP/MIP Solver, v4.52\n",
      "Parameter(s) specified in the command line:\n",
      " --mps /tmp/crHasjd8kI/model.mps --seed 1234 -o /tmp/crHasjd8kI/sol.out\n",
      "Reading problem data from `/tmp/crHasjd8kI/model.mps'...\n",
      "Problem: ARCFLOW\n",
      "Objective: OBJ\n",
      "9 rows, 11 columns, 28 non-zeros\n",
      "11 integer variables, 3 of which are binary\n",
      "58 records were read\n",
      "GLPK Integer Optimizer, v4.52\n",
      "9 rows, 11 columns, 28 non-zeros\n",
      "11 integer variables, 3 of which are binary\n",
      "Preprocessing...\n",
      "7 rows, 10 columns, 23 non-zeros\n",
      "10 integer variables, 4 of which are binary\n",
      "Scaling...\n",
      " A: min|aij| =  1.000e+00  max|aij| =  1.000e+00  ratio =  1.000e+00\n",
      "Problem data seem to be well scaled\n",
      "Constructing initial basis...\n",
      "Size of triangular part is 6\n",
      "Solving LP relaxation...\n",
      "GLPK Simplex Optimizer, v4.52\n",
      "7 rows, 10 columns, 23 non-zeros\n",
      "      0: obj =   0.000000000e+00  infeas =  5.000e+00 (1)\n",
      "*     2: obj =   5.000000000e+00  infeas =  0.000e+00 (1)\n",
      "*     3: obj =   5.000000000e+00  infeas =  0.000e+00 (1)\n",
      "OPTIMAL LP SOLUTION FOUND\n",
      "Integer optimization begins...\n",
      "+     3: mip =     not found yet >=              -inf        (1; 0)\n",
      "+     4: >>>>>   5.000000000e+00 >=   5.000000000e+00   0.0% (2; 0)\n",
      "+     4: mip =   5.000000000e+00 >=     tree is empty   0.0% (0; 3)\n",
      "INTEGER OPTIMAL SOLUTION FOUND\n",
      "Time used:   0.0 secs\n",
      "Memory used: 0.1 Mb (54700 bytes)\n",
      "Writing MIP solution to `/tmp/crHasjd8kI/sol.out'...\n",
      "\n",
      ">>> vbpsol...\n",
      "VPSolver 3.1.2, Copyright (C) 2013-2016, Filipe Brandao\n",
      "Objective: 5\n",
      "Solution:\n",
      "Bins of type 1: 1\n",
      "1 x [i=1, i=2 opt=2]\n",
      "Bins of type 2: 1\n",
      "1 x [i=1]\n"
     ]
    }
   ],
   "source": [
    "solution = mvpsolver.solve(Ws, Cs, Qs, ws, b, script=\"vpsolver_glpk.sh\")"
   ]
  },
  {
   "cell_type": "code",
   "execution_count": 12,
   "metadata": {
    "collapsed": false
   },
   "outputs": [
    {
     "name": "stdout",
     "output_type": "stream",
     "text": [
      "Objective: 5\n",
      "Solution:\n",
      "Bins of type 1: 1 bin\n",
      "1 x [i=1 opt=1, i=2 opt=2]\n",
      "Bins of type 2: 1 bin\n",
      "1 x [i=1 opt=1]\n"
     ]
    }
   ],
   "source": [
    "mvpsolver.print_solution(solution)"
   ]
  }
 ],
 "metadata": {
  "kernelspec": {
   "display_name": "Python 2",
   "language": "python",
   "name": "python2"
  },
  "language_info": {
   "codemirror_mode": {
    "name": "ipython",
    "version": 2
   },
   "file_extension": ".py",
   "mimetype": "text/x-python",
   "name": "python",
   "nbconvert_exporter": "python",
   "pygments_lexer": "ipython2",
   "version": "2.7.6"
  }
 },
 "nbformat": 4,
 "nbformat_minor": 0
}
